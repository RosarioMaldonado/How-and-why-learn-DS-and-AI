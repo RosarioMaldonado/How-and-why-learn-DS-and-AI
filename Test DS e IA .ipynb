{
  "nbformat": 4,
  "nbformat_minor": 0,
  "metadata": {
    "colab": {
      "name": "Test DS e IA.ipynb",
      "provenance": []
    },
    "kernelspec": {
      "name": "python3",
      "display_name": "Python 3"
    },
    "language_info": {
      "name": "python"
    }
  },
  "cells": [
    {
      "cell_type": "markdown",
      "source": [
        "### ¿Cómo y Porqué Aprender Data Science e Inteligencia Artificial?"
      ],
      "metadata": {
        "id": "82tYmZ_a8eyC"
      }
    },
    {
      "cell_type": "markdown",
      "source": [
        "* Inteligencia Artificial y data science son lo mismo?\n",
        "      No, se relacionan pero son diferentes.\n",
        "\n",
        "\n",
        "* ¿Cómo se relaciona data science con Inteligencia Artificial?\n",
        "      En el proceso de data science utilizamos inteligencia artificial como una de sus múltiples herramientas.\n",
        "\n",
        "\n",
        "* ¿Cuándo se dice que tenemos Big Data?\n",
        "      Al tener grandes volúmenes de datos muy variados y veloces que son complicados de procesar con métodos tradicionales.\n",
        "\n",
        "\n",
        "* ¿Cómo se relaciona Big Data con Data Science?\n",
        "      Big Data es materia prima que podemos usar en data science para hacer análisis más exhaustivos.\n",
        "    \n",
        "\n",
        "* Con tener solamente métricas sin hallazgos con información de valor es data science. Lo anteior es:\n",
        "      Falso, necesitamos seguir el proceso de data science y llegar a información accionable para la organización.\n",
        "\n",
        "\n",
        "* Dentro de la jerarquía de necesidades de data science, ¿Cuáles son las etapas sin las que no tendríamos datos para trabajar?\n",
        "      Recolección y Movimiento/Almacenamiento.\n",
        "\n",
        "\n",
        "* ¿Esencialmente qué hace un **Data Scientist**?\n",
        "      Toma datos y los utiliza para encontrar información de valor (insights) y crear servicios de machine learning)\n",
        "\n",
        "\n",
        "* ¿Esencialmente qué hace un **Data Engineer**?\n",
        "      Toma datos que no han sido procesados, los limpia/transforma y almacena para que estén listos para análisis.\n",
        "\n",
        "\n",
        "* ¿Cuál es la finalidad de la ciencia de datos?\n",
        "      Ambas son correctas\n",
        "\n",
        "\n",
        "* ¿Cuál es el paso más importante en el proceso de la ciencia de datos?\n",
        "      Definir mi pregunta o caso de negocio\n",
        "\n",
        "\n",
        "* ¿Cómo se relaciona el machine learning con el deep learning?\n",
        "      El deep learning es una rama del machine learning que a través de algoritmos permite imitar el aprendizaje humano.\n",
        "\n",
        "\n",
        "* ¿Esencialmente qué hace una **Analyst**?\n",
        "      Toma datos y los utiliza para encontrar información de valor (insights)\n",
        "\n",
        "\n",
        "* ¿Esencialmente qué haceuna **Machine learning engineer**?\n",
        "      Despliega modelos de machine learning en sistemas de producción de software."
      ],
      "metadata": {
        "id": "uLG5SCIT8mDb"
      }
    }
  ]
}